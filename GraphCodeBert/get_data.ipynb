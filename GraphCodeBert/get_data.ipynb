{
 "cells": [
  {
   "cell_type": "code",
   "execution_count": 1,
   "metadata": {},
   "outputs": [],
   "source": [
    "import json\n",
    "import os"
   ]
  },
  {
   "cell_type": "code",
   "execution_count": 5,
   "metadata": {},
   "outputs": [],
   "source": [
    "i= 3\n",
    "data_list = []\n",
    "for f in os.listdir(f'../dataset/cbcb/code{i}/'):\n",
    "    idx = f.replace('.txt', '')\n",
    "    with open(f'../dataset/cbcb/code{i}/' + f, 'r') as f:\n",
    "        s = f.read()\n",
    "    data_list.append({\"func\":s, \"idx\":idx})\n",
    "with open(f'../dataset/pre_train/cbcb/data{i}.jsonl', 'w') as f:\n",
    "    for data in data_list:\n",
    "        f.write(json.dumps(data) + '\\n')"
   ]
  },
  {
   "cell_type": "code",
   "execution_count": 6,
   "metadata": {},
   "outputs": [],
   "source": [
    "import numpy as np\n",
    "label = 'all'\n",
    "tr = np.load(f'../dataset/train_split/gcj/train_{label}0.npy')\n",
    "ev = np.load(f'../dataset/train_split/gcj/val_{label}0.npy')\n",
    "te = np.load(f'../dataset/train_split/gcj/test_{label}0.npy')\n",
    "np.random.shuffle(tr)\n",
    "np.random.shuffle(ev)\n",
    "np.random.shuffle(te)\n",
    "\n",
    "with open(f'../dataset/pre_train/gcj/train_{label}.txt', 'w')  as f:\n",
    "    for index, i in enumerate(tr):\n",
    "        if index > 150*1000:\n",
    "            break\n",
    "        if i[2] == -1:\n",
    "            l = 0\n",
    "        else:\n",
    "            l = 1\n",
    "        f.write(f\"{i[0]}\\t{i[1]}\\t{l}\\n\")\n",
    "\n",
    "with open(f'../dataset/pre_train/gcj/valid_{label}.txt', 'w')  as f:\n",
    "    for index, i in enumerate(ev):\n",
    "        if index > 50*1000:\n",
    "            break\n",
    "        if i[2] == -1:\n",
    "            l = 0\n",
    "        else:\n",
    "            l = 1\n",
    "        f.write(f\"{i[0]}\\t{i[1]}\\t{l}\\n\")\n",
    "\n",
    "with open(f'../dataset/pre_train/gcj/test_{label}.txt', 'w')  as f:\n",
    "    for index, i in enumerate(te):\n",
    "        if index > 50*1000:\n",
    "            break\n",
    "        if i[2] == -1:\n",
    "            l = 0\n",
    "        else:\n",
    "            l = 1\n",
    "        f.write(f\"{i[0]}\\t{i[1]}\\t{l}\\n\")\n",
    "\n"
   ]
  },
  {
   "cell_type": "code",
   "execution_count": 4,
   "metadata": {},
   "outputs": [],
   "source": [
    "import numpy as np\n",
    "label = 'random'\n",
    "\n",
    "tr = np.load(f'../dataset/train_split/cbcb/train_{label}0.npy')\n",
    "np.random.shuffle(tr)\n",
    "\n",
    "\n",
    "with open(f'../dataset/pre_train/cbcb/train_{label}_test.txt', 'w')  as f:\n",
    "    for index, i in enumerate(tr):\n",
    "        if index > 2.5*1000:\n",
    "            break\n",
    "        if i[2] == -1:\n",
    "            l = 0\n",
    "        else:\n",
    "            l = 1\n",
    "        f.write(f\"{i[0]}\\t{i[1]}\\t{l}\\n\")\n",
    "\n",
    "\n",
    "\n"
   ]
  },
  {
   "cell_type": "code",
   "execution_count": null,
   "metadata": {},
   "outputs": [],
   "source": []
  }
 ],
 "metadata": {
  "kernelspec": {
   "display_name": "idfgnn",
   "language": "python",
   "name": "python3"
  },
  "language_info": {
   "codemirror_mode": {
    "name": "ipython",
    "version": 3
   },
   "file_extension": ".py",
   "mimetype": "text/x-python",
   "name": "python",
   "nbconvert_exporter": "python",
   "pygments_lexer": "ipython3",
   "version": "3.8.16"
  },
  "orig_nbformat": 4
 },
 "nbformat": 4,
 "nbformat_minor": 2
}
